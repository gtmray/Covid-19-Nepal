{
  "nbformat": 4,
  "nbformat_minor": 0,
  "metadata": {
    "colab": {
      "name": "Untitled7.ipynb",
      "provenance": [],
      "authorship_tag": "ABX9TyOkaZ9Qee2IEs3+ZNgnTqDZ",
      "include_colab_link": true
    },
    "kernelspec": {
      "name": "python3",
      "display_name": "Python 3"
    }
  },
  "cells": [
    {
      "cell_type": "markdown",
      "metadata": {
        "id": "view-in-github",
        "colab_type": "text"
      },
      "source": [
        "<a href=\"https://colab.research.google.com/github/gtmray/Covid-19-Nepal/blob/master/covid19.ipynb\" target=\"_parent\"><img src=\"https://colab.research.google.com/assets/colab-badge.svg\" alt=\"Open In Colab\"/></a>"
      ]
    },
    {
      "cell_type": "code",
      "metadata": {
        "id": "KEzDc79N4-pv",
        "colab_type": "code",
        "colab": {}
      },
      "source": [
        "try:\n",
        "  import requests\n",
        "  from bs4 import BeautifulSoup\n",
        "  import pandas as pd\n",
        "  import numpy as np\n",
        "except:\n",
        "  print('IMPORT ERROR!! TYPE !pip install \"package-name\" to install')"
      ],
      "execution_count": 1,
      "outputs": []
    },
    {
      "cell_type": "code",
      "metadata": {
        "id": "aWCcaYGM5C_D",
        "colab_type": "code",
        "colab": {}
      },
      "source": [
        "url = 'https://coronanepal.live/' #credits to this site :)\n",
        "page_content = requests.get(url).content #requesting information from the url\n",
        "soup = BeautifulSoup(page_content, 'html.parser') #parsing the html content"
      ],
      "execution_count": 2,
      "outputs": []
    },
    {
      "cell_type": "code",
      "metadata": {
        "id": "XbjwqM248Hmj",
        "colab_type": "code",
        "colab": {}
      },
      "source": [
        "#function to convert nepali numbers into english\n",
        "def nep_to_eng(numbers):\n",
        "  to_return = ''\n",
        "  for i in numbers:\n",
        "    conversion = {\n",
        "        '०':'0',\n",
        "        '१':'1',\n",
        "        '२':'2',\n",
        "        '३':'3',\n",
        "        '४':'4',\n",
        "        '५':'5',\n",
        "        '६':'6',\n",
        "        '७':'7',\n",
        "        '८':'8',\n",
        "        '९':'9',\n",
        "    }\n",
        "    to_return = to_return + (conversion.get(i, ''))\n",
        "  return int(to_return) \n"
      ],
      "execution_count": 3,
      "outputs": []
    },
    {
      "cell_type": "code",
      "metadata": {
        "id": "fMCy7yNzNbeu",
        "colab_type": "code",
        "colab": {}
      },
      "source": [
        ""
      ],
      "execution_count": 3,
      "outputs": []
    },
    {
      "cell_type": "code",
      "metadata": {
        "id": "g4Y_cM8X5Yhd",
        "colab_type": "code",
        "colab": {}
      },
      "source": [
        "'''Not the good idea to scrap data but works fine for this page'''\n",
        "\n",
        "test1 = soup.find_all('h1', attrs={'style': 'color:white;'}) #scrapping total tests in nepal\n",
        "test2 = soup.find_all('h1', attrs={'style': 'color:#f38a03'}) #scrapping infected in nepal and world\n",
        "test3 = soup.find_all('h1', attrs={'style': 'color:#e60000 !important;'}) #scrapping death in nepal and world\n",
        "test4 = soup.find_all('h1', attrs={'style': 'color:#70a800 !important;'}) #scrapping recovered in nepal and world\n",
        "\n",
        "list_of_values = []\n",
        "for i in test1, test2, test3, test4:\n",
        "  for j in i:\n",
        "    j = \"\".join([k for k in j.string if ',' not in k]) #removing \",\" from the numbers\n",
        "    returned = nep_to_eng(j)\n",
        "    list_of_values.append(returned)\n",
        "\n",
        "dict_keys = ['Test in Nepal', 'Infected in Nepal', 'Infected in World', 'Death in Nepal',\n",
        "             'Death in World', 'Recovered in Nepal', 'Recovered in World']\n",
        "dff = [i for i in zip(dict_keys, list_of_values)] #combining variables and values\n",
        "df = pd.DataFrame(dff, columns=['Variable', 'Value']) #make dataframe for further manipulation\n",
        "dfff = pd.pivot_table(df, values='Value', columns='Variable') #rows into columns\n",
        "pd.set_option('display.max_columns', 20) #to fit while displaying\n",
        "dfff = dfff[['Test in Nepal', 'Infected in Nepal', 'Death in Nepal', 'Recovered in Nepal', \n",
        "             'Infected in World', 'Death in World', 'Recovered in World']] #arranging in some order\n",
        "print(dfff)"
      ],
      "execution_count": null,
      "outputs": []
    },
    {
      "cell_type": "code",
      "metadata": {
        "id": "paUgbWd3F6bF",
        "colab_type": "code",
        "colab": {
          "base_uri": "https://localhost:8080/",
          "height": 770
        },
        "outputId": "ba0ae5c8-3464-4fc2-c2f1-06c236d0584b"
      },
      "source": [
        "t1 = []\n",
        "t2 = []\n",
        "t3 = []\n",
        "t4 = []\n",
        "t5 = []\n",
        "t6 = []\n",
        "select_next = soup.find('table') #Find the table that contents district data\n",
        "for i in select_next.select('tr'): #For each unique district\n",
        "  j = i.select('td') #Values of each district\n",
        "  if len(j)==6:\n",
        "      t1.append(j[0].find(text=True)) #filter text with text=True\n",
        "      t2.append(str(j[1].find(text=True))) #district name should be string\n",
        "      t3.append(int(j[2].find(text=True))) #number of confirmed cases should be numeric\n",
        "      t4.append(j[3].find(text=True))\n",
        "      t5.append(j[4].find(text=True))\n",
        "      t6.append(j[5].find(text=True))\n",
        "df = pd.DataFrame()\n",
        "df['District'] = t2\n",
        "df['Confirmed cases'] = t3\n",
        "df['Total death'] = t5\n",
        "df['Total recovered'] = t6\n",
        "list_eng_recovered = []\n",
        "list_eng_death = []\n",
        "\n",
        "df['Total recovered'] = [nep_to_eng(i) for i in df['Total recovered']] #Convert to english numerals\n",
        "df['Total death'] = [nep_to_eng(i) for i in df['Total death']]\n",
        "df['District'] = [i.capitalize() for i in df['District']] #Capitalizing  the first letter\n",
        "df['Active cases'] = df['Confirmed cases'] - df['Total recovered']\n",
        "\n",
        "df.sort_values(['Confirmed cases'], ascending=False, ignore_index=True, inplace=True)\n",
        "print(df.head(40))"
      ],
      "execution_count": 8,
      "outputs": [
        {
          "output_type": "stream",
          "text": [
            "        District  Confirmed cases  Total death  Total recovered  Active cases\n",
            "0       Rautahat             1146            0              128          1018\n",
            "1        Dailekh              726            1               35           691\n",
            "2     Kapilbastu              705            0               40           665\n",
            "3        Sarlahi              614            0               16           598\n",
            "4      Mahottari              527            0                4           523\n",
            "5          Banke              344            2              202           142\n",
            "6        Surkhet              300            1               12           288\n",
            "7           Dang              296            0               39           257\n",
            "8        Kailali              290            3               11           279\n",
            "9       Dhanusha              278            0               98           180\n",
            "10     Rupandehi              270            0               56           214\n",
            "11  Arghakhanchi              248            2                2           246\n",
            "12         Gulmi              231            2                3           228\n",
            "13    Dadeldhura              200            0                6           194\n",
            "14         Jhapa              188            0              120            68\n",
            "15         Palpa              183            1                1           182\n",
            "16       Saptari              173            0               37           136\n",
            "17        Salyan              171            0                0           171\n",
            "18         Parsa              158            1              113            45\n",
            "19        Siraha              155            0               26           129\n",
            "20       Baitadi              154            0                5           149\n",
            "21  Nawalparasi1              153            0                3           150\n",
            "22       Bardiya              153            0                3           150\n",
            "23          Doti              148            0                1           147\n",
            "24        Morang              129            0                3           126\n",
            "25       Pyuthan              124            0                0           124\n",
            "26       Syangja              120            1                3           117\n",
            "27       Baglung              117            0                6           111\n",
            "28          Bara              108            2               47            61\n",
            "29       Dhading              101            0                3            98\n",
            "30    Kanchanpur               95            0                1            94\n",
            "31        Tanahu               83            0                0            83\n",
            "32  Nawalparasi2               81            0                3            78\n",
            "33        Achham               76            0                2            74\n",
            "34        Bajura               70            1                0            70\n",
            "35       Sunsari               64            0                8            56\n",
            "36      Udayapur               55            0               28            27\n",
            "37       Chitwan               48            1                5            43\n",
            "38        Gorkha               47            0                1            46\n",
            "39        Parbat               45            0                0            45\n"
          ],
          "name": "stdout"
        }
      ]
    },
    {
      "cell_type": "code",
      "metadata": {
        "id": "IajDw75sDkVt",
        "colab_type": "code",
        "colab": {
          "base_uri": "https://localhost:8080/",
          "height": 1000
        },
        "outputId": "ccf762cc-a61a-47e0-f7e2-6880bc3f265f"
      },
      "source": [
        "#Pie plot\n",
        "try:\n",
        "  import chart_studio\n",
        "except:\n",
        "  !pip install chart_studio\n",
        "  import chart_studio\n",
        "import chart_studio.plotly as py\n",
        "import plotly.express as px\n",
        "chart_studio.tools.set_credentials_file(username='raygtm', api_key='Gi1F46rn1qrayGk83fFz4e9')\n",
        "gbb = df.groupby('District')[['Active cases']].sum().reset_index()\n",
        "fig = px.pie(gbb, values='Active cases', names='District', title='District wise covid-19 active cases')\n",
        "fig.update_traces(rotation = 310,pull=0.05, textinfo='percent+label')\n",
        "#fig.update_layout(uniformtext_minsize=12, uniformtext_mode='hide')\n",
        "fig.update_layout(height=750)\n",
        "fig.show()\n",
        "py.iplot(fig, filename='COVID19 District') "
      ],
      "execution_count": 6,
      "outputs": [
        {
          "output_type": "stream",
          "text": [
            "Collecting chart_studio\n",
            "\u001b[?25l  Downloading https://files.pythonhosted.org/packages/ca/ce/330794a6b6ca4b9182c38fc69dd2a9cbff60fd49421cb8648ee5fee352dc/chart_studio-1.1.0-py3-none-any.whl (64kB)\n",
            "\r\u001b[K     |█████                           | 10kB 14.6MB/s eta 0:00:01\r\u001b[K     |██████████▏                     | 20kB 2.8MB/s eta 0:00:01\r\u001b[K     |███████████████▎                | 30kB 3.9MB/s eta 0:00:01\r\u001b[K     |████████████████████▍           | 40kB 4.1MB/s eta 0:00:01\r\u001b[K     |█████████████████████████▍      | 51kB 3.3MB/s eta 0:00:01\r\u001b[K     |██████████████████████████████▌ | 61kB 3.7MB/s eta 0:00:01\r\u001b[K     |████████████████████████████████| 71kB 3.0MB/s \n",
            "\u001b[?25hRequirement already satisfied: retrying>=1.3.3 in /usr/local/lib/python3.6/dist-packages (from chart_studio) (1.3.3)\n",
            "Requirement already satisfied: six in /usr/local/lib/python3.6/dist-packages (from chart_studio) (1.12.0)\n",
            "Requirement already satisfied: requests in /usr/local/lib/python3.6/dist-packages (from chart_studio) (2.23.0)\n",
            "Requirement already satisfied: plotly in /usr/local/lib/python3.6/dist-packages (from chart_studio) (4.4.1)\n",
            "Requirement already satisfied: urllib3!=1.25.0,!=1.25.1,<1.26,>=1.21.1 in /usr/local/lib/python3.6/dist-packages (from requests->chart_studio) (1.24.3)\n",
            "Requirement already satisfied: certifi>=2017.4.17 in /usr/local/lib/python3.6/dist-packages (from requests->chart_studio) (2020.4.5.2)\n",
            "Requirement already satisfied: idna<3,>=2.5 in /usr/local/lib/python3.6/dist-packages (from requests->chart_studio) (2.9)\n",
            "Requirement already satisfied: chardet<4,>=3.0.2 in /usr/local/lib/python3.6/dist-packages (from requests->chart_studio) (3.0.4)\n",
            "Installing collected packages: chart-studio\n",
            "Successfully installed chart-studio-1.1.0\n"
          ],
          "name": "stdout"
        },
        {
          "output_type": "display_data",
          "data": {
            "text/html": [
              "<html>\n",
              "<head><meta charset=\"utf-8\" /></head>\n",
              "<body>\n",
              "    <div>\n",
              "            <script src=\"https://cdnjs.cloudflare.com/ajax/libs/mathjax/2.7.5/MathJax.js?config=TeX-AMS-MML_SVG\"></script><script type=\"text/javascript\">if (window.MathJax) {MathJax.Hub.Config({SVG: {font: \"STIX-Web\"}});}</script>\n",
              "                <script type=\"text/javascript\">window.PlotlyConfig = {MathJaxConfig: 'local'};</script>\n",
              "        <script src=\"https://cdn.plot.ly/plotly-latest.min.js\"></script>    \n",
              "            <div id=\"54ed4d42-bd79-4fb9-9f00-ce4c1633aef2\" class=\"plotly-graph-div\" style=\"height:750px; width:100%;\"></div>\n",
              "            <script type=\"text/javascript\">\n",
              "                \n",
              "                    window.PLOTLYENV=window.PLOTLYENV || {};\n",
              "                    \n",
              "                if (document.getElementById(\"54ed4d42-bd79-4fb9-9f00-ce4c1633aef2\")) {\n",
              "                    Plotly.newPlot(\n",
              "                        '54ed4d42-bd79-4fb9-9f00-ce4c1633aef2',\n",
              "                        [{\"domain\": {\"x\": [0.0, 1.0], \"y\": [0.0, 1.0]}, \"hoverlabel\": {\"namelength\": 0}, \"hovertemplate\": \"District=%{label}<br>Active cases=%{value}\", \"labels\": [\"Achham\", \"Arghakhanchi\", \"Baglung\", \"Baitadi\", \"Bajhang\", \"Bajura\", \"Banke\", \"Bara\", \"Bardiya\", \"Bhaktapur\", \"Bhojpur\", \"Chitwan\", \"Dadeldhura\", \"Dailekh\", \"Dang\", \"Darchula\", \"Dhading\", \"Dhankuta\", \"Dhanusha\", \"Dolakha\", \"Dolpa\", \"Doti\", \"Gorkha\", \"Gulmi\", \"Humla\", \"Illam\", \"Jajarkot\", \"Jhapa\", \"Jumla\", \"Kailali\", \"Kalikot\", \"Kanchanpur\", \"Kapilbastu\", \"Kaski\", \"Kathmandu\", \"Kavre\", \"Khotang\", \"Lalitpur\", \"Lamjung\", \"Mahottari\", \"Makwanpur\", \"Manang\", \"Morang\", \"Mugu\", \"Mustang\", \"Myagdi\", \"Nawalparasi1\", \"Nawalparasi2\", \"Nuwakot\", \"Okhaldhunga\", \"Palpa\", \"Panchthar\", \"Parbat\", \"Parsa\", \"Pyuthan\", \"Ramechhap\", \"Rautahat\", \"Rolpa\", \"Rukum1\", \"Rukum2\", \"Rupandehi\", \"Salyan\", \"Sankhuwasabha\", \"Saptari\", \"Sarlahi\", \"Sindhuli\", \"Sindhupalchowk\", \"Siraha\", \"Solukhumbu\", \"Sunsari\", \"Surkhet\", \"Syangja\", \"Tanahu\", \"Taplejung\", \"Terathum\", \"Udayapur\"], \"legendgroup\": \"\", \"name\": \"\", \"pull\": 0.05, \"rotation\": 310, \"showlegend\": true, \"textinfo\": \"percent+label\", \"type\": \"pie\", \"values\": [74, 246, 111, 149, 22, 70, 142, 61, 150, 11, 5, 43, 194, 691, 257, 11, 98, 1, 180, 1, 1, 147, 46, 228, 0, 2, 9, 68, 2, 279, 18, 94, 665, 15, 19, 5, 3, 5, 1, 523, 9, 1, 126, 0, 1, 8, 150, 78, 12, 1, 182, 2, 45, 45, 124, 24, 1018, 44, 0, 2, 214, 171, 2, 136, 598, 7, 29, 129, 0, 56, 288, 117, 83, 1, 1, 27]}],\n",
              "                        {\"height\": 750, \"legend\": {\"tracegroupgap\": 0}, \"template\": {\"data\": {\"bar\": [{\"error_x\": {\"color\": \"#2a3f5f\"}, \"error_y\": {\"color\": \"#2a3f5f\"}, \"marker\": {\"line\": {\"color\": \"#E5ECF6\", \"width\": 0.5}}, \"type\": \"bar\"}], \"barpolar\": [{\"marker\": {\"line\": {\"color\": \"#E5ECF6\", \"width\": 0.5}}, \"type\": \"barpolar\"}], \"carpet\": [{\"aaxis\": {\"endlinecolor\": \"#2a3f5f\", \"gridcolor\": \"white\", \"linecolor\": \"white\", \"minorgridcolor\": \"white\", \"startlinecolor\": \"#2a3f5f\"}, \"baxis\": {\"endlinecolor\": \"#2a3f5f\", \"gridcolor\": \"white\", \"linecolor\": \"white\", \"minorgridcolor\": \"white\", \"startlinecolor\": \"#2a3f5f\"}, \"type\": \"carpet\"}], \"choropleth\": [{\"colorbar\": {\"outlinewidth\": 0, \"ticks\": \"\"}, \"type\": \"choropleth\"}], \"contour\": [{\"colorbar\": {\"outlinewidth\": 0, \"ticks\": \"\"}, \"colorscale\": [[0.0, \"#0d0887\"], [0.1111111111111111, \"#46039f\"], [0.2222222222222222, \"#7201a8\"], [0.3333333333333333, \"#9c179e\"], [0.4444444444444444, \"#bd3786\"], [0.5555555555555556, \"#d8576b\"], [0.6666666666666666, \"#ed7953\"], [0.7777777777777778, \"#fb9f3a\"], [0.8888888888888888, \"#fdca26\"], [1.0, \"#f0f921\"]], \"type\": \"contour\"}], \"contourcarpet\": [{\"colorbar\": {\"outlinewidth\": 0, \"ticks\": \"\"}, \"type\": \"contourcarpet\"}], \"heatmap\": [{\"colorbar\": {\"outlinewidth\": 0, \"ticks\": \"\"}, \"colorscale\": [[0.0, \"#0d0887\"], [0.1111111111111111, \"#46039f\"], [0.2222222222222222, \"#7201a8\"], [0.3333333333333333, \"#9c179e\"], [0.4444444444444444, \"#bd3786\"], [0.5555555555555556, \"#d8576b\"], [0.6666666666666666, \"#ed7953\"], [0.7777777777777778, \"#fb9f3a\"], [0.8888888888888888, \"#fdca26\"], [1.0, \"#f0f921\"]], \"type\": \"heatmap\"}], \"heatmapgl\": [{\"colorbar\": {\"outlinewidth\": 0, \"ticks\": \"\"}, \"colorscale\": [[0.0, \"#0d0887\"], [0.1111111111111111, \"#46039f\"], [0.2222222222222222, \"#7201a8\"], [0.3333333333333333, \"#9c179e\"], [0.4444444444444444, \"#bd3786\"], [0.5555555555555556, \"#d8576b\"], [0.6666666666666666, \"#ed7953\"], [0.7777777777777778, \"#fb9f3a\"], [0.8888888888888888, \"#fdca26\"], [1.0, \"#f0f921\"]], \"type\": \"heatmapgl\"}], \"histogram\": [{\"marker\": {\"colorbar\": {\"outlinewidth\": 0, \"ticks\": \"\"}}, \"type\": \"histogram\"}], \"histogram2d\": [{\"colorbar\": {\"outlinewidth\": 0, \"ticks\": \"\"}, \"colorscale\": [[0.0, \"#0d0887\"], [0.1111111111111111, \"#46039f\"], [0.2222222222222222, \"#7201a8\"], [0.3333333333333333, \"#9c179e\"], [0.4444444444444444, \"#bd3786\"], [0.5555555555555556, \"#d8576b\"], [0.6666666666666666, \"#ed7953\"], [0.7777777777777778, \"#fb9f3a\"], [0.8888888888888888, \"#fdca26\"], [1.0, \"#f0f921\"]], \"type\": \"histogram2d\"}], \"histogram2dcontour\": [{\"colorbar\": {\"outlinewidth\": 0, \"ticks\": \"\"}, \"colorscale\": [[0.0, \"#0d0887\"], [0.1111111111111111, \"#46039f\"], [0.2222222222222222, \"#7201a8\"], [0.3333333333333333, \"#9c179e\"], [0.4444444444444444, \"#bd3786\"], [0.5555555555555556, \"#d8576b\"], [0.6666666666666666, \"#ed7953\"], [0.7777777777777778, \"#fb9f3a\"], [0.8888888888888888, \"#fdca26\"], [1.0, \"#f0f921\"]], \"type\": \"histogram2dcontour\"}], \"mesh3d\": [{\"colorbar\": {\"outlinewidth\": 0, \"ticks\": \"\"}, \"type\": \"mesh3d\"}], \"parcoords\": [{\"line\": {\"colorbar\": {\"outlinewidth\": 0, \"ticks\": \"\"}}, \"type\": \"parcoords\"}], \"pie\": [{\"automargin\": true, \"type\": \"pie\"}], \"scatter\": [{\"marker\": {\"colorbar\": {\"outlinewidth\": 0, \"ticks\": \"\"}}, \"type\": \"scatter\"}], \"scatter3d\": [{\"line\": {\"colorbar\": {\"outlinewidth\": 0, \"ticks\": \"\"}}, \"marker\": {\"colorbar\": {\"outlinewidth\": 0, \"ticks\": \"\"}}, \"type\": \"scatter3d\"}], \"scattercarpet\": [{\"marker\": {\"colorbar\": {\"outlinewidth\": 0, \"ticks\": \"\"}}, \"type\": \"scattercarpet\"}], \"scattergeo\": [{\"marker\": {\"colorbar\": {\"outlinewidth\": 0, \"ticks\": \"\"}}, \"type\": \"scattergeo\"}], \"scattergl\": [{\"marker\": {\"colorbar\": {\"outlinewidth\": 0, \"ticks\": \"\"}}, \"type\": \"scattergl\"}], \"scattermapbox\": [{\"marker\": {\"colorbar\": {\"outlinewidth\": 0, \"ticks\": \"\"}}, \"type\": \"scattermapbox\"}], \"scatterpolar\": [{\"marker\": {\"colorbar\": {\"outlinewidth\": 0, \"ticks\": \"\"}}, \"type\": \"scatterpolar\"}], \"scatterpolargl\": [{\"marker\": {\"colorbar\": {\"outlinewidth\": 0, \"ticks\": \"\"}}, \"type\": \"scatterpolargl\"}], \"scatterternary\": [{\"marker\": {\"colorbar\": {\"outlinewidth\": 0, \"ticks\": \"\"}}, \"type\": \"scatterternary\"}], \"surface\": [{\"colorbar\": {\"outlinewidth\": 0, \"ticks\": \"\"}, \"colorscale\": [[0.0, \"#0d0887\"], [0.1111111111111111, \"#46039f\"], [0.2222222222222222, \"#7201a8\"], [0.3333333333333333, \"#9c179e\"], [0.4444444444444444, \"#bd3786\"], [0.5555555555555556, \"#d8576b\"], [0.6666666666666666, \"#ed7953\"], [0.7777777777777778, \"#fb9f3a\"], [0.8888888888888888, \"#fdca26\"], [1.0, \"#f0f921\"]], \"type\": \"surface\"}], \"table\": [{\"cells\": {\"fill\": {\"color\": \"#EBF0F8\"}, \"line\": {\"color\": \"white\"}}, \"header\": {\"fill\": {\"color\": \"#C8D4E3\"}, \"line\": {\"color\": \"white\"}}, \"type\": \"table\"}]}, \"layout\": {\"annotationdefaults\": {\"arrowcolor\": \"#2a3f5f\", \"arrowhead\": 0, \"arrowwidth\": 1}, \"coloraxis\": {\"colorbar\": {\"outlinewidth\": 0, \"ticks\": \"\"}}, \"colorscale\": {\"diverging\": [[0, \"#8e0152\"], [0.1, \"#c51b7d\"], [0.2, \"#de77ae\"], [0.3, \"#f1b6da\"], [0.4, \"#fde0ef\"], [0.5, \"#f7f7f7\"], [0.6, \"#e6f5d0\"], [0.7, \"#b8e186\"], [0.8, \"#7fbc41\"], [0.9, \"#4d9221\"], [1, \"#276419\"]], \"sequential\": [[0.0, \"#0d0887\"], [0.1111111111111111, \"#46039f\"], [0.2222222222222222, \"#7201a8\"], [0.3333333333333333, \"#9c179e\"], [0.4444444444444444, \"#bd3786\"], [0.5555555555555556, \"#d8576b\"], [0.6666666666666666, \"#ed7953\"], [0.7777777777777778, \"#fb9f3a\"], [0.8888888888888888, \"#fdca26\"], [1.0, \"#f0f921\"]], \"sequentialminus\": [[0.0, \"#0d0887\"], [0.1111111111111111, \"#46039f\"], [0.2222222222222222, \"#7201a8\"], [0.3333333333333333, \"#9c179e\"], [0.4444444444444444, \"#bd3786\"], [0.5555555555555556, \"#d8576b\"], [0.6666666666666666, \"#ed7953\"], [0.7777777777777778, \"#fb9f3a\"], [0.8888888888888888, \"#fdca26\"], [1.0, \"#f0f921\"]]}, \"colorway\": [\"#636efa\", \"#EF553B\", \"#00cc96\", \"#ab63fa\", \"#FFA15A\", \"#19d3f3\", \"#FF6692\", \"#B6E880\", \"#FF97FF\", \"#FECB52\"], \"font\": {\"color\": \"#2a3f5f\"}, \"geo\": {\"bgcolor\": \"white\", \"lakecolor\": \"white\", \"landcolor\": \"#E5ECF6\", \"showlakes\": true, \"showland\": true, \"subunitcolor\": \"white\"}, \"hoverlabel\": {\"align\": \"left\"}, \"hovermode\": \"closest\", \"mapbox\": {\"style\": \"light\"}, \"paper_bgcolor\": \"white\", \"plot_bgcolor\": \"#E5ECF6\", \"polar\": {\"angularaxis\": {\"gridcolor\": \"white\", \"linecolor\": \"white\", \"ticks\": \"\"}, \"bgcolor\": \"#E5ECF6\", \"radialaxis\": {\"gridcolor\": \"white\", \"linecolor\": \"white\", \"ticks\": \"\"}}, \"scene\": {\"xaxis\": {\"backgroundcolor\": \"#E5ECF6\", \"gridcolor\": \"white\", \"gridwidth\": 2, \"linecolor\": \"white\", \"showbackground\": true, \"ticks\": \"\", \"zerolinecolor\": \"white\"}, \"yaxis\": {\"backgroundcolor\": \"#E5ECF6\", \"gridcolor\": \"white\", \"gridwidth\": 2, \"linecolor\": \"white\", \"showbackground\": true, \"ticks\": \"\", \"zerolinecolor\": \"white\"}, \"zaxis\": {\"backgroundcolor\": \"#E5ECF6\", \"gridcolor\": \"white\", \"gridwidth\": 2, \"linecolor\": \"white\", \"showbackground\": true, \"ticks\": \"\", \"zerolinecolor\": \"white\"}}, \"shapedefaults\": {\"line\": {\"color\": \"#2a3f5f\"}}, \"ternary\": {\"aaxis\": {\"gridcolor\": \"white\", \"linecolor\": \"white\", \"ticks\": \"\"}, \"baxis\": {\"gridcolor\": \"white\", \"linecolor\": \"white\", \"ticks\": \"\"}, \"bgcolor\": \"#E5ECF6\", \"caxis\": {\"gridcolor\": \"white\", \"linecolor\": \"white\", \"ticks\": \"\"}}, \"title\": {\"x\": 0.05}, \"xaxis\": {\"automargin\": true, \"gridcolor\": \"white\", \"linecolor\": \"white\", \"ticks\": \"\", \"title\": {\"standoff\": 15}, \"zerolinecolor\": \"white\", \"zerolinewidth\": 2}, \"yaxis\": {\"automargin\": true, \"gridcolor\": \"white\", \"linecolor\": \"white\", \"ticks\": \"\", \"title\": {\"standoff\": 15}, \"zerolinecolor\": \"white\", \"zerolinewidth\": 2}}}, \"title\": {\"text\": \"District wise covid-19 active cases\"}},\n",
              "                        {\"responsive\": true}\n",
              "                    ).then(function(){\n",
              "                            \n",
              "var gd = document.getElementById('54ed4d42-bd79-4fb9-9f00-ce4c1633aef2');\n",
              "var x = new MutationObserver(function (mutations, observer) {{\n",
              "        var display = window.getComputedStyle(gd).display;\n",
              "        if (!display || display === 'none') {{\n",
              "            console.log([gd, 'removed!']);\n",
              "            Plotly.purge(gd);\n",
              "            observer.disconnect();\n",
              "        }}\n",
              "}});\n",
              "\n",
              "// Listen for the removal of the full notebook cells\n",
              "var notebookContainer = gd.closest('#notebook-container');\n",
              "if (notebookContainer) {{\n",
              "    x.observe(notebookContainer, {childList: true});\n",
              "}}\n",
              "\n",
              "// Listen for the clearing of the current output cell\n",
              "var outputEl = gd.closest('.output');\n",
              "if (outputEl) {{\n",
              "    x.observe(outputEl, {childList: true});\n",
              "}}\n",
              "\n",
              "                        })\n",
              "                };\n",
              "                \n",
              "            </script>\n",
              "        </div>\n",
              "</body>\n",
              "</html>"
            ]
          },
          "metadata": {
            "tags": []
          }
        },
        {
          "output_type": "execute_result",
          "data": {
            "text/html": [
              "\n",
              "        <iframe\n",
              "            width=\"100%\"\n",
              "            height=\"750px\"\n",
              "            src=\"https://plotly.com/~raygtm/38.embed\"\n",
              "            frameborder=\"0\"\n",
              "            allowfullscreen\n",
              "        ></iframe>\n",
              "        "
            ],
            "text/plain": [
              "<IPython.lib.display.IFrame at 0x7f226b7e2be0>"
            ]
          },
          "metadata": {
            "tags": []
          },
          "execution_count": 6
        }
      ]
    },
    {
      "cell_type": "markdown",
      "metadata": {
        "id": "Jhi6DAAYWGoy",
        "colab_type": "text"
      },
      "source": [
        ""
      ]
    },
    {
      "cell_type": "code",
      "metadata": {
        "id": "AkZDekMPJttH",
        "colab_type": "code",
        "colab": {}
      },
      "source": [
        ""
      ],
      "execution_count": null,
      "outputs": []
    },
    {
      "cell_type": "code",
      "metadata": {
        "id": "floTBfNTkW9d",
        "colab_type": "code",
        "colab": {}
      },
      "source": [
        ""
      ],
      "execution_count": null,
      "outputs": []
    }
  ]
}