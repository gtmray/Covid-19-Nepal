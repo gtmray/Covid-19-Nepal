{
  "nbformat": 4,
  "nbformat_minor": 0,
  "metadata": {
    "colab": {
      "name": "Untitled7.ipynb",
      "provenance": [],
      "authorship_tag": "ABX9TyPVDfOwtwNn704zPPDkoRx2",
      "include_colab_link": true
    },
    "kernelspec": {
      "name": "python3",
      "display_name": "Python 3"
    }
  },
  "cells": [
    {
      "cell_type": "markdown",
      "metadata": {
        "id": "view-in-github",
        "colab_type": "text"
      },
      "source": [
        "<a href=\"https://colab.research.google.com/github/gtmray/Covid-19-Nepal/blob/master/covid19.ipynb\" target=\"_parent\"><img src=\"https://colab.research.google.com/assets/colab-badge.svg\" alt=\"Open In Colab\"/></a>"
      ]
    },
    {
      "cell_type": "code",
      "metadata": {
        "id": "KEzDc79N4-pv",
        "colab_type": "code",
        "colab": {}
      },
      "source": [
        "try:\n",
        "  import requests\n",
        "  from bs4 import BeautifulSoup\n",
        "  import pandas as pd\n",
        "  import numpy as np\n",
        "except:\n",
        "  print('IMPORT ERROR!! TYPE !pip install \"package-name\" to install')"
      ],
      "execution_count": 37,
      "outputs": []
    },
    {
      "cell_type": "code",
      "metadata": {
        "id": "aWCcaYGM5C_D",
        "colab_type": "code",
        "colab": {}
      },
      "source": [
        "url = 'https://coronanepal.live/' #credits to this site :)\n",
        "page_content = requests.get(url).content #requesting information from the url\n",
        "soup = BeautifulSoup(page_content, 'html.parser') #parsing the html content"
      ],
      "execution_count": 38,
      "outputs": []
    },
    {
      "cell_type": "code",
      "metadata": {
        "id": "XbjwqM248Hmj",
        "colab_type": "code",
        "colab": {}
      },
      "source": [
        "#function to convert nepali numbers into english\n",
        "def nep_to_eng(numbers):\n",
        "  to_return = ''\n",
        "  for i in numbers:\n",
        "    conversion = {\n",
        "        '०':'0',\n",
        "        '१':'1',\n",
        "        '२':'2',\n",
        "        '३':'3',\n",
        "        '४':'4',\n",
        "        '५':'5',\n",
        "        '६':'6',\n",
        "        '७':'7',\n",
        "        '८':'8',\n",
        "        '९':'9',\n",
        "    }\n",
        "    to_return = to_return + (conversion.get(i, ''))\n",
        "  return int(to_return) \n"
      ],
      "execution_count": 39,
      "outputs": []
    },
    {
      "cell_type": "code",
      "metadata": {
        "id": "fMCy7yNzNbeu",
        "colab_type": "code",
        "colab": {}
      },
      "source": [
        ""
      ],
      "execution_count": 39,
      "outputs": []
    },
    {
      "cell_type": "code",
      "metadata": {
        "id": "g4Y_cM8X5Yhd",
        "colab_type": "code",
        "colab": {
          "base_uri": "https://localhost:8080/",
          "height": 167
        },
        "outputId": "41287bb7-aa0e-4b5c-9a51-b2f204fa779f"
      },
      "source": [
        "'''Not the good idea to scrap data but works fine for this page'''\n",
        "\n",
        "test1 = soup.find_all('h1', attrs={'style': 'color:white;'}) #scrapping total tests in nepal\n",
        "test2 = soup.find_all('h1', attrs={'style': 'color:#f38a03'}) #scrapping infected in nepal and world\n",
        "test3 = soup.find_all('h1', attrs={'style': 'color:#e60000 !important;'}) #scrapping death in nepal and world\n",
        "test4 = soup.find_all('h1', attrs={'style': 'color:#70a800 !important;'}) #scrapping recovered in nepal and world\n",
        "\n",
        "list_of_values = []\n",
        "for i in test1, test2, test3, test4:\n",
        "  for j in i:\n",
        "    j = \"\".join([k for k in j.string if ',' not in k]) #removing \",\" from the numbers\n",
        "    returned = nep_to_eng(j)\n",
        "    list_of_values.append(returned)\n",
        "\n",
        "dict_keys = ['Test in Nepal', 'Infected in Nepal', 'Infected in World', 'Death in Nepal',\n",
        "             'Death in World', 'Recovered in Nepal', 'Recovered in World']\n",
        "dff = [i for i in zip(dict_keys, list_of_values)] #combining variables and values\n",
        "df = pd.DataFrame(dff, columns=['Variable', 'Value']) #make dataframe for further manipulation\n",
        "dfff = pd.pivot_table(df, values='Value', columns='Variable') #rows into columns\n",
        "pd.set_option('display.max_columns', 20) #to fit while displaying\n",
        "dfff = dfff[['Test in Nepal', 'Infected in Nepal', 'Death in Nepal', 'Recovered in Nepal', \n",
        "             'Infected in World', 'Death in World', 'Recovered in World']] #arranging in some order\n",
        "print(dfff)"
      ],
      "execution_count": 40,
      "outputs": [
        {
          "output_type": "stream",
          "text": [
            "Variable  Test in Nepal  Infected in Nepal  Death in Nepal  \\\n",
            "Value            375416              19771              56   \n",
            "\n",
            "Variable  Recovered in Nepal  Infected in World  Death in World  \\\n",
            "Value                  14399           17631323          679673   \n",
            "\n",
            "Variable  Recovered in World  \n",
            "Value               11028301  \n"
          ],
          "name": "stdout"
        }
      ]
    },
    {
      "cell_type": "code",
      "metadata": {
        "id": "paUgbWd3F6bF",
        "colab_type": "code",
        "colab": {
          "base_uri": "https://localhost:8080/",
          "height": 785
        },
        "outputId": "29c30b99-12b7-4f6a-87a8-26a4c26113b6"
      },
      "source": [
        "t1 = []\n",
        "t2 = []\n",
        "t3 = []\n",
        "t4 = []\n",
        "t5 = []\n",
        "t6 = []\n",
        "select_next = soup.find('table') #Find the table that contents district data\n",
        "for i in select_next.select('tr'): #For each unique district\n",
        "  j = i.select('td') #Values of each district\n",
        "  if len(j)==6:\n",
        "      t1.append(j[0].find(text=True)) #filter text with text=True\n",
        "      t2.append(str(j[1].find(text=True))) #district name should be string\n",
        "      t3.append(int(j[2].find(text=True))) #number of confirmed cases should be numeric\n",
        "      t4.append(j[3].find(text=True))\n",
        "      t5.append(j[4].find(text=True))\n",
        "      t6.append(j[5].find(text=True))\n",
        "df = pd.DataFrame()\n",
        "df['District'] = t2\n",
        "df['Confirmed cases'] = t3\n",
        "df['Total death'] = t5\n",
        "df['Total recovered'] = t6\n",
        "list_eng_recovered = []\n",
        "list_eng_death = []\n",
        "\n",
        "df['Total recovered'] = [nep_to_eng(i) for i in df['Total recovered']] #Convert to english numerals\n",
        "df['Total death'] = [nep_to_eng(i) for i in df['Total death']]\n",
        "df['District'] = [i.capitalize() for i in df['District']] #Capitalizing  the first letter\n",
        "df['Active cases'] = df['Confirmed cases'] - df['Total recovered']\n",
        "\n",
        "df.sort_values(['Active cases'], ascending=False, ignore_index=True, inplace=True)\n",
        "print(df.head(40))\n"
      ],
      "execution_count": 41,
      "outputs": [
        {
          "output_type": "stream",
          "text": [
            "        District  Confirmed cases  Total death  Total recovered  Active cases\n",
            "0       Rautahat             1501            2              370          1131\n",
            "1        Kailali              979            4               34           945\n",
            "2      Mahottari              782            0               83           699\n",
            "3         Achham              646            1                7           639\n",
            "4         Bajura              626            1                0           626\n",
            "5           Doti              626            0               10           616\n",
            "6           Dang              670            1               89           581\n",
            "7          Palpa              563            1                1           562\n",
            "8        Sarlahi              755            0              226           529\n",
            "9        Dailekh              834            2              308           526\n",
            "10    Kanchanpur              463            0                7           456\n",
            "11       Surkhet              545            1              119           426\n",
            "12    Kapilbastu              765            0              343           422\n",
            "13      Dhanusha              606            0              237           369\n",
            "14  Arghakhanchi              341            2                2           339\n",
            "15         Gulmi              359            3               21           338\n",
            "16       Pyuthan              329            0                1           328\n",
            "17  Nawalparasi1              333            0               10           323\n",
            "18    Dadeldhura              300            0                8           292\n",
            "19       Baitadi              276            0                5           271\n",
            "20     Rupandehi              325            1               56           269\n",
            "21       Saptari              378            1              130           248\n",
            "22     Kathmandu              245            3               29           216\n",
            "23       Baglung              226            1               13           213\n",
            "24        Salyan              253            0               48           205\n",
            "25       Bardiya              215            0               11           204\n",
            "26       Bajhang              173            0                1           172\n",
            "27       Syangja              212            2               51           161\n",
            "28        Tanahu              175            0               14           161\n",
            "29        Siraha              243            0               86           157\n",
            "30         Jhapa              313            0              182           131\n",
            "31        Morang              210            0               92           118\n",
            "32          Bara              181            2               71           110\n",
            "33        Gorkha              118            1               10           108\n",
            "34       Lamjung              100            0                1            99\n",
            "35       Chitwan              122            1               28            94\n",
            "36  Nawalparasi2              105            0               17            88\n",
            "37        Parbat               97            0                9            88\n",
            "38         Kaski              104            0               20            84\n",
            "39       Dhading              154            0               75            79\n"
          ],
          "name": "stdout"
        }
      ]
    },
    {
      "cell_type": "code",
      "metadata": {
        "id": "3VjvDWqZE0HZ",
        "colab_type": "code",
        "colab": {
          "base_uri": "https://localhost:8080/",
          "height": 710
        },
        "outputId": "00cb66a7-0c02-477e-a1e6-637547d4689c"
      },
      "source": [
        "#Replacing out other districts with  others\n",
        "\n",
        "df_1 = df[:35]\n",
        "df_2 = df[35:]\n",
        "sum_cols = ['Confirmed cases', 'Total death', 'Total recovered', 'Active cases']\n",
        "Others = dict(df_2[sum_cols].sum(axis=0))\n",
        "data = Others.update(dict(District = 'Others'))\n",
        "df_others = pd.DataFrame({'Confirmed cases': [Others['Confirmed cases']], 'Total death': [Others['Total death']], 'Total recovered': [Others['Total recovered']], 'Active cases': [Others['Active cases']], 'District': [Others['District']]})\n",
        "df_plot = df_1.append(df_others, ignore_index=True)\n",
        "print(df_plot)"
      ],
      "execution_count": 58,
      "outputs": [
        {
          "output_type": "stream",
          "text": [
            "        District  Confirmed cases  Total death  Total recovered  Active cases\n",
            "0       Rautahat             1501            2              370          1131\n",
            "1        Kailali              979            4               34           945\n",
            "2      Mahottari              782            0               83           699\n",
            "3         Achham              646            1                7           639\n",
            "4         Bajura              626            1                0           626\n",
            "5           Doti              626            0               10           616\n",
            "6           Dang              670            1               89           581\n",
            "7          Palpa              563            1                1           562\n",
            "8        Sarlahi              755            0              226           529\n",
            "9        Dailekh              834            2              308           526\n",
            "10    Kanchanpur              463            0                7           456\n",
            "11       Surkhet              545            1              119           426\n",
            "12    Kapilbastu              765            0              343           422\n",
            "13      Dhanusha              606            0              237           369\n",
            "14  Arghakhanchi              341            2                2           339\n",
            "15         Gulmi              359            3               21           338\n",
            "16       Pyuthan              329            0                1           328\n",
            "17  Nawalparasi1              333            0               10           323\n",
            "18    Dadeldhura              300            0                8           292\n",
            "19       Baitadi              276            0                5           271\n",
            "20     Rupandehi              325            1               56           269\n",
            "21       Saptari              378            1              130           248\n",
            "22     Kathmandu              245            3               29           216\n",
            "23       Baglung              226            1               13           213\n",
            "24        Salyan              253            0               48           205\n",
            "25       Bardiya              215            0               11           204\n",
            "26       Bajhang              173            0                1           172\n",
            "27       Syangja              212            2               51           161\n",
            "28        Tanahu              175            0               14           161\n",
            "29        Siraha              243            0               86           157\n",
            "30         Jhapa              313            0              182           131\n",
            "31        Morang              210            0               92           118\n",
            "32          Bara              181            2               71           110\n",
            "33        Gorkha              118            1               10           108\n",
            "34       Lamjung              100            0                1            99\n",
            "35        Others             2177           10              984          1193\n"
          ],
          "name": "stdout"
        }
      ]
    },
    {
      "cell_type": "code",
      "metadata": {
        "id": "IajDw75sDkVt",
        "colab_type": "code",
        "colab": {
          "base_uri": "https://localhost:8080/",
          "height": 1000
        },
        "outputId": "f0595272-3e61-4458-fc62-521ab17ecd29"
      },
      "source": [
        "#Pie plot\n",
        "try:\n",
        "  import chart_studio\n",
        "except:\n",
        "  !pip install chart_studio\n",
        "  import chart_studio\n",
        "import chart_studio.plotly as py\n",
        "import plotly.express as px\n",
        "chart_studio.tools.set_credentials_file(username='raygtm', api_key='Gi1F46rnray1qGk83fFz4e9')\n",
        "gbb = df_plot.groupby('District')[['Active cases']].sum().reset_index()\n",
        "fig = px.pie(gbb, values='Active cases', names='District', title='District wise covid-19 active cases')\n",
        "fig.update_traces(rotation = 310,pull=0.05, textinfo='percent+label')\n",
        "#fig.update_layout(uniformtext_minsize=12, uniformtext_mode='hide')\n",
        "fig.update_layout(height=750)\n",
        "fig.show()\n",
        "py.iplot(fig, filename='COVID19 District') "
      ],
      "execution_count": 59,
      "outputs": [
        {
          "output_type": "display_data",
          "data": {
            "text/html": [
              "<html>\n",
              "<head><meta charset=\"utf-8\" /></head>\n",
              "<body>\n",
              "    <div>\n",
              "            <script src=\"https://cdnjs.cloudflare.com/ajax/libs/mathjax/2.7.5/MathJax.js?config=TeX-AMS-MML_SVG\"></script><script type=\"text/javascript\">if (window.MathJax) {MathJax.Hub.Config({SVG: {font: \"STIX-Web\"}});}</script>\n",
              "                <script type=\"text/javascript\">window.PlotlyConfig = {MathJaxConfig: 'local'};</script>\n",
              "        <script src=\"https://cdn.plot.ly/plotly-latest.min.js\"></script>    \n",
              "            <div id=\"ceba1b06-9de6-4dec-bf5e-74097fe11b9b\" class=\"plotly-graph-div\" style=\"height:750px; width:100%;\"></div>\n",
              "            <script type=\"text/javascript\">\n",
              "                \n",
              "                    window.PLOTLYENV=window.PLOTLYENV || {};\n",
              "                    \n",
              "                if (document.getElementById(\"ceba1b06-9de6-4dec-bf5e-74097fe11b9b\")) {\n",
              "                    Plotly.newPlot(\n",
              "                        'ceba1b06-9de6-4dec-bf5e-74097fe11b9b',\n",
              "                        [{\"domain\": {\"x\": [0.0, 1.0], \"y\": [0.0, 1.0]}, \"hoverlabel\": {\"namelength\": 0}, \"hovertemplate\": \"District=%{label}<br>Active cases=%{value}\", \"labels\": [\"Achham\", \"Arghakhanchi\", \"Baglung\", \"Baitadi\", \"Bajhang\", \"Bajura\", \"Bara\", \"Bardiya\", \"Dadeldhura\", \"Dailekh\", \"Dang\", \"Dhanusha\", \"Doti\", \"Gorkha\", \"Gulmi\", \"Jhapa\", \"Kailali\", \"Kanchanpur\", \"Kapilbastu\", \"Kathmandu\", \"Lamjung\", \"Mahottari\", \"Morang\", \"Nawalparasi1\", \"Others\", \"Palpa\", \"Pyuthan\", \"Rautahat\", \"Rupandehi\", \"Salyan\", \"Saptari\", \"Sarlahi\", \"Siraha\", \"Surkhet\", \"Syangja\", \"Tanahu\"], \"legendgroup\": \"\", \"name\": \"\", \"pull\": 0.05, \"rotation\": 310, \"showlegend\": true, \"textinfo\": \"percent+label\", \"type\": \"pie\", \"values\": [639, 339, 213, 271, 172, 626, 110, 204, 292, 526, 581, 369, 616, 108, 338, 131, 945, 456, 422, 216, 99, 699, 118, 323, 1193, 562, 328, 1131, 269, 205, 248, 529, 157, 426, 161, 161]}],\n",
              "                        {\"height\": 750, \"legend\": {\"tracegroupgap\": 0}, \"template\": {\"data\": {\"bar\": [{\"error_x\": {\"color\": \"#2a3f5f\"}, \"error_y\": {\"color\": \"#2a3f5f\"}, \"marker\": {\"line\": {\"color\": \"#E5ECF6\", \"width\": 0.5}}, \"type\": \"bar\"}], \"barpolar\": [{\"marker\": {\"line\": {\"color\": \"#E5ECF6\", \"width\": 0.5}}, \"type\": \"barpolar\"}], \"carpet\": [{\"aaxis\": {\"endlinecolor\": \"#2a3f5f\", \"gridcolor\": \"white\", \"linecolor\": \"white\", \"minorgridcolor\": \"white\", \"startlinecolor\": \"#2a3f5f\"}, \"baxis\": {\"endlinecolor\": \"#2a3f5f\", \"gridcolor\": \"white\", \"linecolor\": \"white\", \"minorgridcolor\": \"white\", \"startlinecolor\": \"#2a3f5f\"}, \"type\": \"carpet\"}], \"choropleth\": [{\"colorbar\": {\"outlinewidth\": 0, \"ticks\": \"\"}, \"type\": \"choropleth\"}], \"contour\": [{\"colorbar\": {\"outlinewidth\": 0, \"ticks\": \"\"}, \"colorscale\": [[0.0, \"#0d0887\"], [0.1111111111111111, \"#46039f\"], [0.2222222222222222, \"#7201a8\"], [0.3333333333333333, \"#9c179e\"], [0.4444444444444444, \"#bd3786\"], [0.5555555555555556, \"#d8576b\"], [0.6666666666666666, \"#ed7953\"], [0.7777777777777778, \"#fb9f3a\"], [0.8888888888888888, \"#fdca26\"], [1.0, \"#f0f921\"]], \"type\": \"contour\"}], \"contourcarpet\": [{\"colorbar\": {\"outlinewidth\": 0, \"ticks\": \"\"}, \"type\": \"contourcarpet\"}], \"heatmap\": [{\"colorbar\": {\"outlinewidth\": 0, \"ticks\": \"\"}, \"colorscale\": [[0.0, \"#0d0887\"], [0.1111111111111111, \"#46039f\"], [0.2222222222222222, \"#7201a8\"], [0.3333333333333333, \"#9c179e\"], [0.4444444444444444, \"#bd3786\"], [0.5555555555555556, \"#d8576b\"], [0.6666666666666666, \"#ed7953\"], [0.7777777777777778, \"#fb9f3a\"], [0.8888888888888888, \"#fdca26\"], [1.0, \"#f0f921\"]], \"type\": \"heatmap\"}], \"heatmapgl\": [{\"colorbar\": {\"outlinewidth\": 0, \"ticks\": \"\"}, \"colorscale\": [[0.0, \"#0d0887\"], [0.1111111111111111, \"#46039f\"], [0.2222222222222222, \"#7201a8\"], [0.3333333333333333, \"#9c179e\"], [0.4444444444444444, \"#bd3786\"], [0.5555555555555556, \"#d8576b\"], [0.6666666666666666, \"#ed7953\"], [0.7777777777777778, \"#fb9f3a\"], [0.8888888888888888, \"#fdca26\"], [1.0, \"#f0f921\"]], \"type\": \"heatmapgl\"}], \"histogram\": [{\"marker\": {\"colorbar\": {\"outlinewidth\": 0, \"ticks\": \"\"}}, \"type\": \"histogram\"}], \"histogram2d\": [{\"colorbar\": {\"outlinewidth\": 0, \"ticks\": \"\"}, \"colorscale\": [[0.0, \"#0d0887\"], [0.1111111111111111, \"#46039f\"], [0.2222222222222222, \"#7201a8\"], [0.3333333333333333, \"#9c179e\"], [0.4444444444444444, \"#bd3786\"], [0.5555555555555556, \"#d8576b\"], [0.6666666666666666, \"#ed7953\"], [0.7777777777777778, \"#fb9f3a\"], [0.8888888888888888, \"#fdca26\"], [1.0, \"#f0f921\"]], \"type\": \"histogram2d\"}], \"histogram2dcontour\": [{\"colorbar\": {\"outlinewidth\": 0, \"ticks\": \"\"}, \"colorscale\": [[0.0, \"#0d0887\"], [0.1111111111111111, \"#46039f\"], [0.2222222222222222, \"#7201a8\"], [0.3333333333333333, \"#9c179e\"], [0.4444444444444444, \"#bd3786\"], [0.5555555555555556, \"#d8576b\"], [0.6666666666666666, \"#ed7953\"], [0.7777777777777778, \"#fb9f3a\"], [0.8888888888888888, \"#fdca26\"], [1.0, \"#f0f921\"]], \"type\": \"histogram2dcontour\"}], \"mesh3d\": [{\"colorbar\": {\"outlinewidth\": 0, \"ticks\": \"\"}, \"type\": \"mesh3d\"}], \"parcoords\": [{\"line\": {\"colorbar\": {\"outlinewidth\": 0, \"ticks\": \"\"}}, \"type\": \"parcoords\"}], \"pie\": [{\"automargin\": true, \"type\": \"pie\"}], \"scatter\": [{\"marker\": {\"colorbar\": {\"outlinewidth\": 0, \"ticks\": \"\"}}, \"type\": \"scatter\"}], \"scatter3d\": [{\"line\": {\"colorbar\": {\"outlinewidth\": 0, \"ticks\": \"\"}}, \"marker\": {\"colorbar\": {\"outlinewidth\": 0, \"ticks\": \"\"}}, \"type\": \"scatter3d\"}], \"scattercarpet\": [{\"marker\": {\"colorbar\": {\"outlinewidth\": 0, \"ticks\": \"\"}}, \"type\": \"scattercarpet\"}], \"scattergeo\": [{\"marker\": {\"colorbar\": {\"outlinewidth\": 0, \"ticks\": \"\"}}, \"type\": \"scattergeo\"}], \"scattergl\": [{\"marker\": {\"colorbar\": {\"outlinewidth\": 0, \"ticks\": \"\"}}, \"type\": \"scattergl\"}], \"scattermapbox\": [{\"marker\": {\"colorbar\": {\"outlinewidth\": 0, \"ticks\": \"\"}}, \"type\": \"scattermapbox\"}], \"scatterpolar\": [{\"marker\": {\"colorbar\": {\"outlinewidth\": 0, \"ticks\": \"\"}}, \"type\": \"scatterpolar\"}], \"scatterpolargl\": [{\"marker\": {\"colorbar\": {\"outlinewidth\": 0, \"ticks\": \"\"}}, \"type\": \"scatterpolargl\"}], \"scatterternary\": [{\"marker\": {\"colorbar\": {\"outlinewidth\": 0, \"ticks\": \"\"}}, \"type\": \"scatterternary\"}], \"surface\": [{\"colorbar\": {\"outlinewidth\": 0, \"ticks\": \"\"}, \"colorscale\": [[0.0, \"#0d0887\"], [0.1111111111111111, \"#46039f\"], [0.2222222222222222, \"#7201a8\"], [0.3333333333333333, \"#9c179e\"], [0.4444444444444444, \"#bd3786\"], [0.5555555555555556, \"#d8576b\"], [0.6666666666666666, \"#ed7953\"], [0.7777777777777778, \"#fb9f3a\"], [0.8888888888888888, \"#fdca26\"], [1.0, \"#f0f921\"]], \"type\": \"surface\"}], \"table\": [{\"cells\": {\"fill\": {\"color\": \"#EBF0F8\"}, \"line\": {\"color\": \"white\"}}, \"header\": {\"fill\": {\"color\": \"#C8D4E3\"}, \"line\": {\"color\": \"white\"}}, \"type\": \"table\"}]}, \"layout\": {\"annotationdefaults\": {\"arrowcolor\": \"#2a3f5f\", \"arrowhead\": 0, \"arrowwidth\": 1}, \"coloraxis\": {\"colorbar\": {\"outlinewidth\": 0, \"ticks\": \"\"}}, \"colorscale\": {\"diverging\": [[0, \"#8e0152\"], [0.1, \"#c51b7d\"], [0.2, \"#de77ae\"], [0.3, \"#f1b6da\"], [0.4, \"#fde0ef\"], [0.5, \"#f7f7f7\"], [0.6, \"#e6f5d0\"], [0.7, \"#b8e186\"], [0.8, \"#7fbc41\"], [0.9, \"#4d9221\"], [1, \"#276419\"]], \"sequential\": [[0.0, \"#0d0887\"], [0.1111111111111111, \"#46039f\"], [0.2222222222222222, \"#7201a8\"], [0.3333333333333333, \"#9c179e\"], [0.4444444444444444, \"#bd3786\"], [0.5555555555555556, \"#d8576b\"], [0.6666666666666666, \"#ed7953\"], [0.7777777777777778, \"#fb9f3a\"], [0.8888888888888888, \"#fdca26\"], [1.0, \"#f0f921\"]], \"sequentialminus\": [[0.0, \"#0d0887\"], [0.1111111111111111, \"#46039f\"], [0.2222222222222222, \"#7201a8\"], [0.3333333333333333, \"#9c179e\"], [0.4444444444444444, \"#bd3786\"], [0.5555555555555556, \"#d8576b\"], [0.6666666666666666, \"#ed7953\"], [0.7777777777777778, \"#fb9f3a\"], [0.8888888888888888, \"#fdca26\"], [1.0, \"#f0f921\"]]}, \"colorway\": [\"#636efa\", \"#EF553B\", \"#00cc96\", \"#ab63fa\", \"#FFA15A\", \"#19d3f3\", \"#FF6692\", \"#B6E880\", \"#FF97FF\", \"#FECB52\"], \"font\": {\"color\": \"#2a3f5f\"}, \"geo\": {\"bgcolor\": \"white\", \"lakecolor\": \"white\", \"landcolor\": \"#E5ECF6\", \"showlakes\": true, \"showland\": true, \"subunitcolor\": \"white\"}, \"hoverlabel\": {\"align\": \"left\"}, \"hovermode\": \"closest\", \"mapbox\": {\"style\": \"light\"}, \"paper_bgcolor\": \"white\", \"plot_bgcolor\": \"#E5ECF6\", \"polar\": {\"angularaxis\": {\"gridcolor\": \"white\", \"linecolor\": \"white\", \"ticks\": \"\"}, \"bgcolor\": \"#E5ECF6\", \"radialaxis\": {\"gridcolor\": \"white\", \"linecolor\": \"white\", \"ticks\": \"\"}}, \"scene\": {\"xaxis\": {\"backgroundcolor\": \"#E5ECF6\", \"gridcolor\": \"white\", \"gridwidth\": 2, \"linecolor\": \"white\", \"showbackground\": true, \"ticks\": \"\", \"zerolinecolor\": \"white\"}, \"yaxis\": {\"backgroundcolor\": \"#E5ECF6\", \"gridcolor\": \"white\", \"gridwidth\": 2, \"linecolor\": \"white\", \"showbackground\": true, \"ticks\": \"\", \"zerolinecolor\": \"white\"}, \"zaxis\": {\"backgroundcolor\": \"#E5ECF6\", \"gridcolor\": \"white\", \"gridwidth\": 2, \"linecolor\": \"white\", \"showbackground\": true, \"ticks\": \"\", \"zerolinecolor\": \"white\"}}, \"shapedefaults\": {\"line\": {\"color\": \"#2a3f5f\"}}, \"ternary\": {\"aaxis\": {\"gridcolor\": \"white\", \"linecolor\": \"white\", \"ticks\": \"\"}, \"baxis\": {\"gridcolor\": \"white\", \"linecolor\": \"white\", \"ticks\": \"\"}, \"bgcolor\": \"#E5ECF6\", \"caxis\": {\"gridcolor\": \"white\", \"linecolor\": \"white\", \"ticks\": \"\"}}, \"title\": {\"x\": 0.05}, \"xaxis\": {\"automargin\": true, \"gridcolor\": \"white\", \"linecolor\": \"white\", \"ticks\": \"\", \"title\": {\"standoff\": 15}, \"zerolinecolor\": \"white\", \"zerolinewidth\": 2}, \"yaxis\": {\"automargin\": true, \"gridcolor\": \"white\", \"linecolor\": \"white\", \"ticks\": \"\", \"title\": {\"standoff\": 15}, \"zerolinecolor\": \"white\", \"zerolinewidth\": 2}}}, \"title\": {\"text\": \"District wise covid-19 active cases\"}},\n",
              "                        {\"responsive\": true}\n",
              "                    ).then(function(){\n",
              "                            \n",
              "var gd = document.getElementById('ceba1b06-9de6-4dec-bf5e-74097fe11b9b');\n",
              "var x = new MutationObserver(function (mutations, observer) {{\n",
              "        var display = window.getComputedStyle(gd).display;\n",
              "        if (!display || display === 'none') {{\n",
              "            console.log([gd, 'removed!']);\n",
              "            Plotly.purge(gd);\n",
              "            observer.disconnect();\n",
              "        }}\n",
              "}});\n",
              "\n",
              "// Listen for the removal of the full notebook cells\n",
              "var notebookContainer = gd.closest('#notebook-container');\n",
              "if (notebookContainer) {{\n",
              "    x.observe(notebookContainer, {childList: true});\n",
              "}}\n",
              "\n",
              "// Listen for the clearing of the current output cell\n",
              "var outputEl = gd.closest('.output');\n",
              "if (outputEl) {{\n",
              "    x.observe(outputEl, {childList: true});\n",
              "}}\n",
              "\n",
              "                        })\n",
              "                };\n",
              "                \n",
              "            </script>\n",
              "        </div>\n",
              "</body>\n",
              "</html>"
            ]
          },
          "metadata": {
            "tags": []
          }
        },
        {
          "output_type": "execute_result",
          "data": {
            "text/html": [
              "\n",
              "        <iframe\n",
              "            width=\"100%\"\n",
              "            height=\"750px\"\n",
              "            src=\"https://plotly.com/~raygtm/38.embed\"\n",
              "            frameborder=\"0\"\n",
              "            allowfullscreen\n",
              "        ></iframe>\n",
              "        "
            ],
            "text/plain": [
              "<IPython.lib.display.IFrame at 0x7fa90fb18eb8>"
            ]
          },
          "metadata": {
            "tags": []
          },
          "execution_count": 59
        }
      ]
    },
    {
      "cell_type": "markdown",
      "metadata": {
        "id": "Jhi6DAAYWGoy",
        "colab_type": "text"
      },
      "source": [
        ""
      ]
    },
    {
      "cell_type": "code",
      "metadata": {
        "id": "AkZDekMPJttH",
        "colab_type": "code",
        "colab": {}
      },
      "source": [
        ""
      ],
      "execution_count": null,
      "outputs": []
    },
    {
      "cell_type": "code",
      "metadata": {
        "id": "floTBfNTkW9d",
        "colab_type": "code",
        "colab": {}
      },
      "source": [
        ""
      ],
      "execution_count": null,
      "outputs": []
    }
  ]
}